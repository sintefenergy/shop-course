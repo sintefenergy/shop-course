{
 "cells": [
  {
   "cell_type": "markdown",
   "id": "a57d70bf",
   "metadata": {},
   "source": [
    "# Objects\n",
    "Objects are the basic building blocks in SHOP. Once our `ShopSession` has been initialized, all available object types can be listed as shown below by executing the code."
   ]
  },
  {
   "cell_type": "code",
   "execution_count": null,
   "id": "802da1b4",
   "metadata": {},
   "outputs": [],
   "source": [
    "from check.objects import *\n",
    "\n",
    "import pandas as pd\n",
    "from pyshop import ShopSession\n",
    "shop = ShopSession()\n",
    "\n",
    "starttime = pd.Timestamp('2022-01-01')\n",
    "endtime = pd.Timestamp('2022-01-03')\n",
    "shop.set_time_resolution(starttime=starttime, endtime=endtime, timeunit='hour')\n",
    "\n",
    "shop.model._all_types"
   ]
  },
  {
   "cell_type": "markdown",
   "id": "a7672ce3",
   "metadata": {},
   "source": [
    "## Object info\n",
    "The object types will also appear as auto-complete options when typing `shop.model.` if the `ShopSession` has been initialized. You can get infomration about the different object types as shown in the code below. If the object `isInput`, it is an object that can be created by the user as a building block for the whole model. If the object `isOutput`, it is created implicitly by SHOP and will typically have only one instace. Check the info for different object types in the code block below:"
   ]
  },
  {
   "cell_type": "code",
   "execution_count": null,
   "id": "f9072e7f",
   "metadata": {},
   "outputs": [],
   "source": [
    "shop.model.reserve_group.info()"
   ]
  },
  {
   "cell_type": "markdown",
   "id": "dcbfb2ef",
   "metadata": {},
   "source": [
    "## Create objects\n",
    "Adding new objects to SHOP can be done as shown below. Note that the object type is given by before the `add_object` function. Execute the code below."
   ]
  },
  {
   "cell_type": "code",
   "execution_count": null,
   "id": "91dc12a1",
   "metadata": {},
   "outputs": [],
   "source": [
    "shop.model.reservoir.add_object(\"Reservoir1\")\n",
    "print(shop.model.reservoir.get_object_names())"
   ]
  },
  {
   "cell_type": "markdown",
   "id": "fd9a5adb",
   "metadata": {},
   "source": [
    "### Exercise\n",
    "Complete the code below:\n",
    "- Add two `plant`s named `Plant1` and `Plant2`, and a generator named `Gen1`.\n",
    "- Check that the objects have been added by calling the object-type member function `get_object_names()`.\n",
    "- Check that the new objects also appear as options in the auto-complete drop-down menu when typing `shop.model.<object_type>.`"
   ]
  },
  {
   "cell_type": "code",
   "execution_count": null,
   "id": "92fadbf6",
   "metadata": {},
   "outputs": [],
   "source": [
    "shop.model.plant.add_object(\"Plant1\")\n",
    "\n",
    "check1(shop)"
   ]
  },
  {
   "cell_type": "markdown",
   "id": "cba689ed",
   "metadata": {},
   "source": [
    "Note that you cannot add an object with the same name twice in the same ShopSession. If you encounter this, you may either comment out the line(s) adding these objects, or restart the kernel."
   ]
  },
  {
   "cell_type": "markdown",
   "id": "249be407",
   "metadata": {},
   "source": [
    "## Alternative way of looking up object types, objects and attributes\n",
    "The 'dot' annotation for accessing object types, objects and attributes is convenient as it offers auto-completion. However, it also has some limitations, for example:\n",
    "- Objects can't be accessed if the name is stored as a string variable.\n",
    "- Object names can not contain characters that have a special meaning in the Python programming language, for example '()-'.\n",
    "To make this clearer, we will illustrate with a few examples:"
   ]
  },
  {
   "cell_type": "code",
   "execution_count": null,
   "id": "597556bc",
   "metadata": {},
   "outputs": [],
   "source": [
    "shop.model.gate.add_object(\"Gate(1)\")"
   ]
  },
  {
   "cell_type": "code",
   "execution_count": null,
   "id": "439b4216",
   "metadata": {},
   "outputs": [],
   "source": [
    "shop.model.gate.Gate(1).get_name()"
   ]
  },
  {
   "cell_type": "markdown",
   "id": "b0048490",
   "metadata": {},
   "source": [
    "As seen above, we can create objects with name containing special characters. However, we are unable to access it with the dot-notation. In these cases, we can use the dictionary syntax shown below:"
   ]
  },
  {
   "cell_type": "code",
   "execution_count": null,
   "id": "20004781",
   "metadata": {},
   "outputs": [],
   "source": [
    "shop.model.gate['Gate(1)'].get_name()"
   ]
  },
  {
   "cell_type": "markdown",
   "id": "43fb07be",
   "metadata": {},
   "source": [
    "These two ways of accessing objects are equivalent and can be used interchangeably. Similarly, we can also use the notation for object types (shown below, and attributes that we will study more in detail in the next section):"
   ]
  },
  {
   "cell_type": "code",
   "execution_count": null,
   "id": "9a61523e",
   "metadata": {},
   "outputs": [],
   "source": [
    "shop.model['gate']['Gate(1)'].get_name()"
   ]
  },
  {
   "cell_type": "markdown",
   "id": "cd5328ca",
   "metadata": {},
   "source": [
    "Another benefit with the dictionary lookup syntax is that it can be used for constructing loops. For example, the code below loops all object types and prints their objects:"
   ]
  },
  {
   "cell_type": "code",
   "execution_count": null,
   "id": "400cb930",
   "metadata": {},
   "outputs": [],
   "source": [
    "for object_type in shop.model._all_types:\n",
    "    print(f'{object_type}: {shop.model[object_type].get_object_names()}')"
   ]
  },
  {
   "cell_type": "markdown",
   "id": "d551ed61",
   "metadata": {},
   "source": [
    "However, the way of accessing the 'Gate(1)' object shown above requires a bit of typing. The easiest way of accessing the object is to leverage the fact that the `add_object` function also _returns_ the newly created SHOP object. This allows the user to save the object in a variable to be reference afterwards:"
   ]
  },
  {
   "cell_type": "code",
   "execution_count": null,
   "id": "8bcd809e",
   "metadata": {},
   "outputs": [],
   "source": [
    "gate_2 = shop.model.gate.add_object(\"Gate(2)\")\n",
    "print(gate_2.get_name())"
   ]
  },
  {
   "cell_type": "markdown",
   "id": "d44bbcc3",
   "metadata": {},
   "source": [
    "Note that the variable 'gate_2' is of the type 'AttributeBuilderObject', which is defined internally in the pySHOP code. The details of the 'AttributeBuilderObject' class is not important to know as a new pySHOP user, but the definition can be found in the pySHOP source code on GitHub. Rest assured that the 'gate_2' object is exactly the same object that you get when using the dictionary syntax shown earlier:"
   ]
  },
  {
   "cell_type": "code",
   "execution_count": null,
   "id": "049f7dd6",
   "metadata": {},
   "outputs": [],
   "source": [
    "print(type(gate_2))\n",
    "print(gate_2 == shop.model.gate['Gate(2)'])"
   ]
  },
  {
   "cell_type": "markdown",
   "id": "8324b306",
   "metadata": {},
   "source": [
    "A similar syntax can be used to loop through all objects in the SHOP model of a certain type. This is often useful when plotting results after the optimization is done. The code below shows the simplest way to loop through and print the name of all gate objects in the current model:"
   ]
  },
  {
   "cell_type": "code",
   "execution_count": null,
   "id": "1c9a4bb8",
   "metadata": {},
   "outputs": [],
   "source": [
    "for g in shop.model.gate:\n",
    "    print(g.get_name())\n"
   ]
  },
  {
   "attachments": {},
   "cell_type": "markdown",
   "id": "c9007ed5",
   "metadata": {},
   "source": [
    "## Video solution"
   ]
  },
  {
   "attachments": {},
   "cell_type": "markdown",
   "id": "2ac7b483",
   "metadata": {},
   "source": [
    "<div style=\"padding:56.25% 0 0 0;position:relative;\"><iframe src=\"https://player.vimeo.com/video/778452374?h=002f166a9b&badge=0&autopause=0&player_id=0&app_id=58479/embed\" allow=\"autoplay; fullscreen; picture-in-picture\" allowfullscreen frameborder=\"0\" style=\"position:absolute;top:0;left:0;width:100%;height:100%;\"></iframe></div>"
   ]
  },
  {
   "cell_type": "markdown",
   "id": "0107c278",
   "metadata": {},
   "source": []
  }
 ],
 "metadata": {
  "interpreter": {
   "hash": "4021e3c2a7f1a3d1d2ba2ca6f3e96f5744b64d771c64865afbb12d67ac566ef0"
  },
  "jupytext": {
   "cell_metadata_filter": "-all",
   "notebook_metadata_filter": "-all"
  },
  "kernelspec": {
   "display_name": "Python 3.7.9 ('SHOP')",
   "language": "python",
   "name": "python3"
  },
  "language_info": {
   "codemirror_mode": {
    "name": "ipython",
    "version": 3
   },
   "file_extension": ".py",
   "mimetype": "text/x-python",
   "name": "python",
   "nbconvert_exporter": "python",
   "pygments_lexer": "ipython3",
   "version": "3.7.9"
  }
 },
 "nbformat": 4,
 "nbformat_minor": 5
}
