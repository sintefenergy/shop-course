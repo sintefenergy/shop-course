{
 "cells": [
  {
   "cell_type": "markdown",
   "id": "ab19e584",
   "metadata": {},
   "source": [
    "# Commands\n",
    "Commands are used to define how to execute your model and to generate outputs. A comprehensive list of all available commands in SHOP can be found in the documentation. This course will only cover the use of commands through pySHOP, but using commands with ASCII or yaml files is described in the documentation.\n",
    "\n",
    "This section will use a pre-built SHOP model, the basic model from the documentation.\n",
    "\n",
    "A SHOP command includes:\n",
    "1. Command name\n",
    "2. Command options\n",
    "3. Command values\n",
    "\n",
    "Each command has its own set of distinct allowed options and value types as described in the documentation table. The syntax for executing a command in pySHOP is as follows:\n",
    "\n",
    "    shop.<command_name>(<list of options>, <list of values>)\n",
    "\n",
    "## Example\n",
    "Given the command in the table(from the documentation), they can be executed as shown in the code below:\n",
    "|Name|Options|Values|\n",
    "|---|---|---|\n",
    "|start sim|/start, /end, /nosolve|int|\n",
    "|set code|/head, /full, /incremental, /junction, /on, /off|nan|\n",
    "\n",
    "    shop.start_sim([], [1])\n",
    "    shop.set_code(['incremental'], [])\n",
    "\n",
    "The name of the command is called as a function where whitespace is replaced by '_' (underscore). Auto-complete hints are provided if you are using Jupyter notebook. The first argument is a list of options. This list can include from zero to many options (excluding the '/'). The second argument is a list of values, which also can have from zero to many options. The `start sim` requires a `int` options, while `set code` requires no options.\n",
    "\n",
    "### Exercises\n",
    "Complete the code below. Use the `start sim` command to run 3 optimization iterations. Thereafter, switch to `incremental` iterations using the `set code` command. Finally, run another 3 optimization iterations. Use the documentation if you don't know the meaning of the different options and values."
   ]
  },
  {
   "cell_type": "code",
   "execution_count": null,
   "id": "dac61c66",
   "metadata": {},
   "outputs": [],
   "source": [
    "from pyshop import ShopSession\n",
    "\n",
    "from basic import build_model\n",
    "\n",
    "shop = ShopSession()\n",
    "build_model(shop)\n",
    "shop.start_sim([], [3])\n",
    "\n",
    "## Complete the exercise with your own code."
   ]
  },
  {
   "cell_type": "markdown",
   "id": "b5a9e5a4",
   "metadata": {},
   "source": [
    "### Optional exercises\n",
    "- Execute the command `print bp_curves` with the option `all_combinations`.\n",
    "- Modify the inflow and initial storage such that overflow occurs. Experiment with different values for `overflow_penalty` and `overflow_time_adjust`.\n",
    "\n",
    "Use the documentation to find the right syntax."
   ]
  },
  {
   "cell_type": "markdown",
   "id": "30a0da78",
   "metadata": {},
   "source": [
    "## Video solution"
   ]
  },
  {
   "attachments": {},
   "cell_type": "markdown",
   "id": "726cb570",
   "metadata": {},
   "source": [
    "<div style=\"padding:56.25% 0 0 0;position:relative;\"><iframe src=\"https://player.vimeo.com/video/779578107?h=a8730353cb&amp;badge=0&amp;autopause=0&amp;player_id=0&amp;app_id=58479\" frameborder=\"0\" allow=\"autoplay; fullscreen; picture-in-picture\" allowfullscreen style=\"position:absolute;top:0;left:0;width:100%;height:100%;\" title=\"Introduction to pySHOP - Commands\"></iframe></div><script src=\"https://player.vimeo.com/api/player.js\"></script>"
   ]
  },
  {
   "cell_type": "markdown",
   "id": "db6bbe41",
   "metadata": {},
   "source": []
  }
 ],
 "metadata": {
  "jupytext": {
   "cell_metadata_filter": "-all",
   "notebook_metadata_filter": "-all"
  },
  "kernelspec": {
   "display_name": "Python 3.10.2 64-bit",
   "language": "python",
   "name": "python3"
  },
  "language_info": {
   "codemirror_mode": {
    "name": "ipython",
    "version": 3
   },
   "file_extension": ".py",
   "mimetype": "text/x-python",
   "name": "python",
   "nbconvert_exporter": "python",
   "pygments_lexer": "ipython3",
   "version": "3.10.2"
  },
  "vscode": {
   "interpreter": {
    "hash": "a99b379104e2ee1100f5ceda6b5755b760205edccc33bf6d14607a677128d7f1"
   }
  }
 },
 "nbformat": 4,
 "nbformat_minor": 5
}
