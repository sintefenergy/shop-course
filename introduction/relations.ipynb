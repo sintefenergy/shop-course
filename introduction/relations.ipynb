{
 "cells": [
  {
   "cell_type": "markdown",
   "id": "7fd54acc",
   "metadata": {},
   "source": [
    "# Relations\n",
    "Objects in SHOP are linked through relations. Relations can be directional and are used for building the watercourse and for grouping objects with common properties.\n",
    "\n",
    "## Connecting objects\n",
    "For example, if `Plant1` produces from `Rsv1` to `Rsv2`, then there is a relation or connection from `Rsv1` to `Plant1` and from `Plant1` to `Rsv2`. Let's try it out:"
   ]
  },
  {
   "cell_type": "code",
   "execution_count": null,
   "id": "1d72de55",
   "metadata": {},
   "outputs": [],
   "source": [
    "from check.relations import check1, check2\n",
    "from pyshop import ShopSession\n",
    "\n",
    "shop = ShopSession()\n",
    "\n",
    "rsv1 = shop.model.reservoir.add_object('Rsv1')\n",
    "plant1 = shop.model.plant.add_object('Plant1')\n",
    "rsv2 = shop.model.reservoir.add_object('Rsv2')\n",
    "\n",
    "shop.model.build_connection_tree()"
   ]
  },
  {
   "cell_type": "markdown",
   "id": "5af54257",
   "metadata": {},
   "source": [
    "\n",
    "We have created three water course objects we will connect. First we conenct `Rsv1` to `Plant1`:"
   ]
  },
  {
   "cell_type": "code",
   "execution_count": null,
   "id": "0049453b",
   "metadata": {},
   "outputs": [],
   "source": [
    "shop.model.reservoir.Rsv1.connect_to(shop.model.plant.Plant1)\n",
    "plant1.connect_to(rsv2)\n",
    "shop.model.build_connection_tree()"
   ]
  },
  {
   "cell_type": "markdown",
   "id": "a54dd880",
   "metadata": {},
   "source": [
    "In the first line, we have connected the reservoir and plant by looking up the object in SHOP. In the second line, we have used the variables that were assigned in the first code block. The `add_object` function returns the object it creates, and it may be convenient to keep these to keep the code simple.\n",
    "\n",
    "### Exercise\n",
    "Complete the code below. Create another plant `Plant2` and reservoir `Rsv3`. Connect `Rsv2` to `Plant2` and `Plant2` to `Rsv3`."
   ]
  },
  {
   "cell_type": "code",
   "execution_count": null,
   "id": "a601cf4a",
   "metadata": {},
   "outputs": [],
   "source": [
    "plant2 = shop.model.plant.add_object('Plant2')\n",
    "rsv3 = shop.model.reservoir.add_object('Rsv3')\n",
    "rsv2.connect_to(plant2)\n",
    "plant2.connect_to(rsv3)\n",
    "\n",
    "check1(shop)"
   ]
  },
  {
   "cell_type": "markdown",
   "id": "8d48d681",
   "metadata": {},
   "source": [
    "## Lookup relations\n",
    "To check relations between existing objects, we can call the `get_relations` function on an object which will return a list of objects."
   ]
  },
  {
   "cell_type": "code",
   "execution_count": null,
   "id": "8d50833c",
   "metadata": {},
   "outputs": [],
   "source": [
    "shop.model.plant['Plant2'].get_relations()"
   ]
  },
  {
   "cell_type": "markdown",
   "id": "f1bcb484",
   "metadata": {},
   "source": [
    "The output if the objects is not very useful, hence we have to call the `get_name` and `get_type` functions on the returned objects. In the code below, we loop the list of returned objects and print the name and type of each item."
   ]
  },
  {
   "cell_type": "code",
   "execution_count": null,
   "id": "d3abee21",
   "metadata": {},
   "outputs": [],
   "source": [
    "for o in shop.model.plant['Plant2'].get_relations():\n",
    "    print(o.get_name())\n",
    "    print(o.get_type())"
   ]
  },
  {
   "cell_type": "markdown",
   "id": "0dcc2e64",
   "metadata": {},
   "source": [
    "We can also filter our query using the following arguments and options:\n",
    "|Argument|Options|\n",
    "|---|---|\n",
    "|direction|both, input, output|\n",
    "|relation_type|connection_standard, connection_bypass, connection_spill|\n",
    "|relation_category|both, physical, logical|\n",
    "\n",
    "We distinguish between physical and logical relation categories. The physical relations represents objects in the watercourse, such as between reservoirs, tunnels, rivers and plants. The relations are directional and should be connected from the top of the watercourse and down.\n",
    "\n",
    "Relation type is in most cases `connection_standard`, but `gate` objects can also be of type `connection_bypass` and `connection_spill`. Spill gates are treated differently since they receive the overflow from their upstream reservoir.\n",
    "\n",
    "The logical relations can, for example, relate an object to a group of restrictions. For the logical relations, the direction of the relation is irrelevant. The documentation clearly states which objects can be connected.\n",
    "\n",
    "By modifying the code above, we can also query for objects below `Plant2`:"
   ]
  },
  {
   "cell_type": "code",
   "execution_count": null,
   "id": "b6a0c64f",
   "metadata": {},
   "outputs": [],
   "source": [
    "for o in shop.model.plant['Plant2'].get_relations(direction='output'):\n",
    "    print(o.get_name())\n",
    "    print(o.get_type())"
   ]
  },
  {
   "cell_type": "markdown",
   "id": "57723635",
   "metadata": {},
   "source": [
    "### Exercise\n",
    "Create gates `Gate1_bypass` and `Gate1_spill` and connect them between `Rsv1` and `Rsv2`. Use the `connection_type` argument. Complete the code below:"
   ]
  },
  {
   "cell_type": "code",
   "execution_count": null,
   "id": "d5359841",
   "metadata": {},
   "outputs": [],
   "source": [
    "gate1_bypass = shop.model.gate.add_object('Gate1_bypass')\n",
    "rsv1.connect_to(gate1_bypass, connection_type='bypass') # Both \"bypass\" and \"connection_bypass\" are valid inputs.\n",
    "gate1_bypass.connect_to(rsv2)\n",
    "\n",
    "## Add your own code for spill gate here\n",
    "\n",
    "check2(shop)"
   ]
  }
 ],
 "metadata": {
  "jupytext": {
   "cell_metadata_filter": "-all",
   "notebook_metadata_filter": "-all"
  },
  "kernelspec": {
   "display_name": "Python 3.10.2 64-bit",
   "language": "python",
   "name": "python3"
  },
  "language_info": {
   "codemirror_mode": {
    "name": "ipython",
    "version": 3
   },
   "file_extension": ".py",
   "mimetype": "text/x-python",
   "name": "python",
   "nbconvert_exporter": "python",
   "pygments_lexer": "ipython3",
   "version": "3.10.2"
  },
  "vscode": {
   "interpreter": {
    "hash": "a99b379104e2ee1100f5ceda6b5755b760205edccc33bf6d14607a677128d7f1"
   }
  }
 },
 "nbformat": 4,
 "nbformat_minor": 5
}
