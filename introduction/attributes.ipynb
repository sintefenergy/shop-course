{
 "cells": [
  {
   "cell_type": "markdown",
   "id": "d47812a3",
   "metadata": {},
   "source": [
    "# Attributes\n",
    "Each object in SHOP comprises mulitple attributes that defines the properties of the object, and where the results can be aquired from.\n",
    "\n",
    "## Types\n",
    "Each object type has it individual attributes. Once SHOP is running, we can query information about available attribute types and more detailed infomration about the indivudal attribute. Since the documentation is integrated into the SHOP source code, we can query the attribute documentaion online and the documentation will always be the most recent available. Execute the code below to list all attribute types for an object type: "
   ]
  },
  {
   "cell_type": "code",
   "execution_count": null,
   "id": "0c6d62c4",
   "metadata": {},
   "outputs": [],
   "source": [
    "from check.attributes import *\n",
    "import pandas as pd\n",
    "from pyshop import ShopSession\n",
    "shop = ShopSession()\n",
    "starttime = pd.Timestamp('2022-05-09')\n",
    "endtime = pd.Timestamp('2022-05-10')\n",
    "shop.set_time_resolution(starttime=starttime, endtime=endtime, timeunit='hour')"
   ]
  },
  {
   "cell_type": "code",
   "execution_count": null,
   "id": "241426f6",
   "metadata": {},
   "outputs": [],
   "source": [
    "shop.model.reservoir.get_attribute_names()"
   ]
  },
  {
   "cell_type": "markdown",
   "id": "aadadb9a",
   "metadata": {},
   "source": [
    "Once an object has been created, we can query more detailed information about the respective attributes."
   ]
  },
  {
   "cell_type": "code",
   "execution_count": null,
   "id": "fccaddcf",
   "metadata": {},
   "outputs": [],
   "source": [
    "rsv1 = shop.model.reservoir.add_object(\"Reservoir1\")"
   ]
  },
  {
   "cell_type": "markdown",
   "id": "21423496",
   "metadata": {},
   "source": [
    "For example, the datatype_dict shows what datatype the respective attributes represent."
   ]
  },
  {
   "cell_type": "code",
   "execution_count": null,
   "id": "28b9b438",
   "metadata": {},
   "outputs": [],
   "source": [
    "rsv1.datatype_dict"
   ]
  },
  {
   "cell_type": "markdown",
   "id": "e49b67ca",
   "metadata": {},
   "source": [
    " You can also get more information about each individual attribute by calling the `info()` function:"
   ]
  },
  {
   "cell_type": "code",
   "execution_count": null,
   "id": "941973e8",
   "metadata": {},
   "outputs": [],
   "source": [
    "rsv1.water_value_input.info()"
   ]
  },
  {
   "cell_type": "markdown",
   "id": "4bdbac5a",
   "metadata": {},
   "source": [
    "### Exercise\n",
    "Complete the code below:\n",
    "- Create a new plant named `Plant1`\n",
    "- Check the info for the following attributes: `outlet_line`, `discharge`, `intake_loss` and `penstock_loss`."
   ]
  },
  {
   "cell_type": "code",
   "execution_count": null,
   "id": "7197e083",
   "metadata": {},
   "outputs": [],
   "source": [
    "shop.model.plant"
   ]
  },
  {
   "cell_type": "markdown",
   "id": "7c95774c",
   "metadata": {},
   "source": [
    "## Data types\n",
    "All attributes represent one of the following datatypes:\n",
    "- string\n",
    "- string_array\n",
    "- int\n",
    "- int_array\n",
    "- double\n",
    "- double_array\n",
    "- txy\n",
    "- xy\n",
    "- xyt\n",
    "- xy_array\n",
    "- sy\n",
    "\n",
    "### Primitive data types\n",
    "The first six data types are so-called primited datatypes. They are either a single instance of the primitive datatypes string, integer and double or an array of these (string is actually a list of characters but will be treated as a primited datatype in pySHOP). These are either represented using standard python `int`, `float` and `str`, and python `list` of these, or we can use the equivalent [numpy](https://numpy.org/) objects.\n",
    "\n",
    "#### String\n",
    "This datatype represents a simple string, for example the name of the log-file. This type is only used rare occasions.\n",
    "Example:\n",
    "```python\n",
    "a = 'My string'\n",
    "```\n",
    "\n",
    "#### String array\n",
    "String arrays represent an array of strings, and the order of the strings is of importance. This datatype is mainly used in the `lp_model` functionality the describe the variables and constraints.\n",
    "```python\n",
    "a = ['My string1', 'My string2']\n",
    "```\n",
    "or\n",
    "```python\n",
    "import numpy as np\n",
    "b = np.array(['My string1', 'My string2'])\n",
    "```\n",
    "\n",
    "#### Int\n",
    "Integer values, typically flag values and ids.\n",
    "```python\n",
    "a = 5\n",
    "```\n",
    "\n",
    "#### Int array\n",
    "Array of integers.\n",
    "```python\n",
    "a = [1, 3, 7]\n",
    "```\n",
    "or\n",
    "```python\n",
    "import numpy as np\n",
    "b = np.array([1, 3, 7])\n",
    "```\n",
    "\n",
    "#### Double\n",
    "Decimal number typically describing phyiscal property of object.\n",
    "```python\n",
    "a = 5.7\n",
    "```\n",
    "\n",
    "#### Double array\n",
    "Array of numbers describing physical properties of object.\n",
    "```python\n",
    "a = [1.1, 3.1, 7.5]\n",
    "```\n",
    "or\n",
    "```python\n",
    "import numpy as np\n",
    "b = np.array([1.1, 3.1, 7.5])\n",
    "```\n",
    "\n",
    "### Advanced data types\n",
    "The remaining data types are index data and will be represented using [pandas](https://pandas.pydata.org/) which is an open source library for managing structured data. In pySHOP, we are using the [pandas.Series](https://pandas.pydata.org/docs/reference/api/pandas.Series.html) object, which is a one-dimensional array with axis labels that also can represent time. The examples below shows how to create simple `pandas.Series`. The pandas objects also have a convenient built-in plotting function to visualize the data with the index along the x-axis and the value along the y-axis:"
   ]
  },
  {
   "cell_type": "code",
   "execution_count": null,
   "id": "9786c63d",
   "metadata": {},
   "outputs": [],
   "source": [
    "import pandas as pd\n",
    "xy = pd.Series(\n",
    "    index=[0, 2, 3],\n",
    "    data=[3, 7, 5]\n",
    ")\n",
    "xy.plot()"
   ]
  },
  {
   "cell_type": "code",
   "execution_count": null,
   "id": "e001b3f9",
   "metadata": {},
   "outputs": [],
   "source": [
    "txy = pd.Series(\n",
    "    index=[pd.Timestamp('2022-05-09'), pd.Timestamp('2022-05-10')],\n",
    "    data=[5.3, 9.2]\n",
    ")\n",
    "txy.plot()"
   ]
  },
  {
   "cell_type": "markdown",
   "id": "581a3136",
   "metadata": {},
   "source": [
    "#### Txy\n",
    "`txy` represents time series data where the index is a sequence of timestamps and the data are numbers. If the time series has less datapoints than the timeresolution of SHOP, forward fill interpolation and extrapolation is used. In other words, the missing values are replaced by the first previously known value. This is the most widely used data type in SHOP and is used for both time series of floats and integers, such as flags. It is used for both input and output data.\n",
    "```python\n",
    "a = pd.Series(\n",
    "    index=[starttime, starttime+pd.Timedelta(hours=6)],\n",
    "    data=[0, 5]\n",
    ")\n",
    "```\n",
    "\n",
    "#### Xy\n",
    "`xy` represent simple tables where the index is a number, for example generator efficiency and the volume to head releation for reservoirs. This data type can be interpreted as a simple 2D curve.\n",
    "```python\n",
    "a = pd.Series(\n",
    "    index=[0, 2, 3],\n",
    "    data=[2.2, 1.1, 0.3]\n",
    ")\n",
    "```\n",
    "\n",
    "#### Xyt\n",
    "`xyt` is time indexed `xy`. At each time step t, there exist an corresponding table `xy`. This data type is mainly used for marginal cost curves and bid curves that are updated for each time step. See best profit example on SHOP portal for further details.\n",
    "\n",
    "#### Xy_array\n",
    "`xy_array`, also known as `xyn`, is similar to `xyt`, but is indexed by a reference value `n` and not time. It is, for example, used to describe turbine efficiency where different reference head levels have their respective efficiency curve where `x` denote the discharge and `y` the efficiency. This data type can be interpreted as a 3D surface. Note that the reference value for each `xy` curve is given by the `name`-field in each `pd.Series` object.\n",
    "```python\n",
    "a = [\n",
    "    pd.Series(\n",
    "        name=50\n",
    "        index=[0, 10],\n",
    "        data=[90, 95]\n",
    "    ),\n",
    "    pd.Series(\n",
    "        name=60\n",
    "        index=[0, 10],\n",
    "        data=[92, 97]\n",
    "    )\n",
    "]\n",
    "```\n",
    "\n",
    "#### Sy\n",
    "`sy` is similar with `xy`, but the index `s` is a string instead of a number. The type is mainly used to describe the busbar PTDF factors for power flow calculations in SHOP.\n",
    "\n",
    "### Exercise\n",
    "Create a loop that prints the attribute names and datatypes for reservoirs.\n",
    "(The solution is shown when running the function `show_solution`.)"
   ]
  },
  {
   "cell_type": "code",
   "execution_count": null,
   "id": "73356b90",
   "metadata": {},
   "outputs": [],
   "source": [
    "# Write you own loop here"
   ]
  },
  {
   "cell_type": "code",
   "execution_count": null,
   "id": "4ee7a452",
   "metadata": {},
   "outputs": [],
   "source": [
    "show_solution()"
   ]
  },
  {
   "cell_type": "markdown",
   "id": "0993e312",
   "metadata": {},
   "source": [
    "## Getting and setting attributes\n",
    "Attribute values can be read using the attribute `get()` function, and set with the `set(...)` function as shown in the example below:"
   ]
  },
  {
   "cell_type": "code",
   "execution_count": null,
   "id": "b8576767",
   "metadata": {},
   "outputs": [],
   "source": [
    "inflow = pd.Series(\n",
    "    index=[starttime, starttime + pd.Timedelta(hours=6)],\n",
    "    data = [50, 100]\n",
    ")\n",
    "rsv1.inflow.set(inflow)\n",
    "rsv1.inflow.get()"
   ]
  },
  {
   "cell_type": "markdown",
   "id": "bf52b94b",
   "metadata": {},
   "source": [
    "Since `txy` attributes are so common in SHOP, there exists some additional pySHOP functionality for setting constant `txy` attributes. A constant `txy` attribute can be set by supplying a single (float) value to the `set` function. The code below overwrites the inflow values we just added to the reservoir object, and instead assigns a constant inflow value of 25 m3/s for all time steps: "
   ]
  },
  {
   "cell_type": "code",
   "execution_count": null,
   "id": "6532373c",
   "metadata": {},
   "outputs": [],
   "source": [
    "rsv1.inflow.set(25.0)\n",
    "rsv1.inflow.get()"
   ]
  },
  {
   "cell_type": "markdown",
   "id": "9cf727c5",
   "metadata": {},
   "source": [
    "### Exercise\n",
    "- Create a plant `Plant1` and a generator `Gen1`.\n",
    "- Set the plant `penstock_loss` to `[0.001,0.002]`.\n",
    "- Set the plant `production_schedule` to 0 from the starttime and then 10 from hour 6.\n",
    "- Set the generator `gen_eff_curve` to 90% at 10 MW, 93% at 20MW and 95% at 30MW."
   ]
  },
  {
   "cell_type": "code",
   "execution_count": null,
   "id": "51d813d1",
   "metadata": {},
   "outputs": [],
   "source": [
    "plant1 = shop.model.plant.add_object(\"Plant1\")\n",
    "***\n",
    "\n",
    "check1(shop)"
   ]
  },
  {
   "attachments": {},
   "cell_type": "markdown",
   "id": "c220fd53",
   "metadata": {},
   "source": [
    "## Video solution"
   ]
  },
  {
   "attachments": {},
   "cell_type": "markdown",
   "id": "9c3ea65a",
   "metadata": {},
   "source": [
    "<div style=\"padding:56.25% 0 0 0;position:relative;\"><iframe src=\"https://player.vimeo.com/video/778452374?h=002f166a9b&badge=0&autopause=0&player_id=0&app_id=58479/embed\" allow=\"autoplay; fullscreen; picture-in-picture\" allowfullscreen frameborder=\"0\" style=\"position:absolute;top:0;left:0;width:100%;height:100%;\"></iframe></div>"
   ]
  },
  {
   "cell_type": "markdown",
   "id": "4d2eb085",
   "metadata": {},
   "source": []
  }
 ],
 "metadata": {
  "interpreter": {
   "hash": "4021e3c2a7f1a3d1d2ba2ca6f3e96f5744b64d771c64865afbb12d67ac566ef0"
  },
  "jupytext": {
   "cell_metadata_filter": "-all",
   "notebook_metadata_filter": "-all"
  },
  "kernelspec": {
   "display_name": "Python 3.7.9 ('SHOP')",
   "language": "python",
   "name": "python3"
  },
  "language_info": {
   "codemirror_mode": {
    "name": "ipython",
    "version": 3
   },
   "file_extension": ".py",
   "mimetype": "text/x-python",
   "name": "python",
   "nbconvert_exporter": "python",
   "pygments_lexer": "ipython3",
   "version": "3.7.9"
  }
 },
 "nbformat": 4,
 "nbformat_minor": 5
}
